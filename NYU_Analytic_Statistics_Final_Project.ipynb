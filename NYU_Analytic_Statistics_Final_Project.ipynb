{
  "nbformat": 4,
  "nbformat_minor": 0,
  "metadata": {
    "colab": {
      "name": "NYU Analytic Statistics Final Project",
      "provenance": [],
      "authorship_tag": "ABX9TyOKelZeV8bsF48aXwuqyk2b",
      "include_colab_link": true
    },
    "kernelspec": {
      "name": "python3",
      "display_name": "Python 3"
    }
  },
  "cells": [
    {
      "cell_type": "markdown",
      "metadata": {
        "id": "view-in-github",
        "colab_type": "text"
      },
      "source": [
        "<a href=\"https://colab.research.google.com/github/sbm367/nyuparse/blob/master/NYU_Analytic_Statistics_Final_Project.ipynb\" target=\"_parent\"><img src=\"https://colab.research.google.com/assets/colab-badge.svg\" alt=\"Open In Colab\"/></a>"
      ]
    },
    {
      "cell_type": "markdown",
      "metadata": {
        "id": "WtexGTXUYH0R"
      },
      "source": [
        "New Stuff"
      ]
    },
    {
      "cell_type": "code",
      "metadata": {
        "id": "HkmXcMqUYLQ_",
        "colab": {
          "base_uri": "https://localhost:8080/",
          "height": 554
        },
        "outputId": "0713adb4-cb6b-42d6-d446-fe8585fd928f"
      },
      "source": [
        "# import libs\r\n",
        "import numpy as np\r\n",
        "import pandas as pd\r\n",
        "\r\n",
        "\r\n",
        "# Get the data\r\n",
        "github_url = 'https://github.com/sbm367/nyuparse/blob/master/Final%20Survey%20Data%2C%20Cleaned%2C%20Anonymize.csv'\r\n",
        "df = pd.read_csv(github_url)\r\n",
        "\r\n",
        "df.head()\r\n"
      ],
      "execution_count": 21,
      "outputs": [
        {
          "output_type": "error",
          "ename": "ParserError",
          "evalue": "ignored",
          "traceback": [
            "\u001b[0;31m---------------------------------------------------------------------------\u001b[0m",
            "\u001b[0;31mParserError\u001b[0m                               Traceback (most recent call last)",
            "\u001b[0;32m<ipython-input-21-90b3b244e089>\u001b[0m in \u001b[0;36m<module>\u001b[0;34m()\u001b[0m\n\u001b[1;32m      6\u001b[0m \u001b[0;31m# Get the data\u001b[0m\u001b[0;34m\u001b[0m\u001b[0;34m\u001b[0m\u001b[0;34m\u001b[0m\u001b[0m\n\u001b[1;32m      7\u001b[0m \u001b[0mgithub_url\u001b[0m \u001b[0;34m=\u001b[0m \u001b[0;34m'https://github.com/sbm367/nyuparse/blob/master/Final%20Survey%20Data%2C%20Cleaned%2C%20Anonymize.csv'\u001b[0m\u001b[0;34m\u001b[0m\u001b[0;34m\u001b[0m\u001b[0m\n\u001b[0;32m----> 8\u001b[0;31m \u001b[0mdf\u001b[0m \u001b[0;34m=\u001b[0m \u001b[0mpd\u001b[0m\u001b[0;34m.\u001b[0m\u001b[0mread_csv\u001b[0m\u001b[0;34m(\u001b[0m\u001b[0mgithub_url\u001b[0m\u001b[0;34m)\u001b[0m\u001b[0;34m\u001b[0m\u001b[0;34m\u001b[0m\u001b[0m\n\u001b[0m\u001b[1;32m      9\u001b[0m \u001b[0;34m\u001b[0m\u001b[0m\n\u001b[1;32m     10\u001b[0m \u001b[0mdf\u001b[0m\u001b[0;34m.\u001b[0m\u001b[0mhead\u001b[0m\u001b[0;34m(\u001b[0m\u001b[0;34m)\u001b[0m\u001b[0;34m\u001b[0m\u001b[0;34m\u001b[0m\u001b[0m\n",
            "\u001b[0;32m/usr/local/lib/python3.7/dist-packages/pandas/io/parsers.py\u001b[0m in \u001b[0;36mread_csv\u001b[0;34m(filepath_or_buffer, sep, delimiter, header, names, index_col, usecols, squeeze, prefix, mangle_dupe_cols, dtype, engine, converters, true_values, false_values, skipinitialspace, skiprows, skipfooter, nrows, na_values, keep_default_na, na_filter, verbose, skip_blank_lines, parse_dates, infer_datetime_format, keep_date_col, date_parser, dayfirst, cache_dates, iterator, chunksize, compression, thousands, decimal, lineterminator, quotechar, quoting, doublequote, escapechar, comment, encoding, dialect, error_bad_lines, warn_bad_lines, delim_whitespace, low_memory, memory_map, float_precision)\u001b[0m\n\u001b[1;32m    686\u001b[0m     )\n\u001b[1;32m    687\u001b[0m \u001b[0;34m\u001b[0m\u001b[0m\n\u001b[0;32m--> 688\u001b[0;31m     \u001b[0;32mreturn\u001b[0m \u001b[0m_read\u001b[0m\u001b[0;34m(\u001b[0m\u001b[0mfilepath_or_buffer\u001b[0m\u001b[0;34m,\u001b[0m \u001b[0mkwds\u001b[0m\u001b[0;34m)\u001b[0m\u001b[0;34m\u001b[0m\u001b[0;34m\u001b[0m\u001b[0m\n\u001b[0m\u001b[1;32m    689\u001b[0m \u001b[0;34m\u001b[0m\u001b[0m\n\u001b[1;32m    690\u001b[0m \u001b[0;34m\u001b[0m\u001b[0m\n",
            "\u001b[0;32m/usr/local/lib/python3.7/dist-packages/pandas/io/parsers.py\u001b[0m in \u001b[0;36m_read\u001b[0;34m(filepath_or_buffer, kwds)\u001b[0m\n\u001b[1;32m    458\u001b[0m \u001b[0;34m\u001b[0m\u001b[0m\n\u001b[1;32m    459\u001b[0m     \u001b[0;32mtry\u001b[0m\u001b[0;34m:\u001b[0m\u001b[0;34m\u001b[0m\u001b[0;34m\u001b[0m\u001b[0m\n\u001b[0;32m--> 460\u001b[0;31m         \u001b[0mdata\u001b[0m \u001b[0;34m=\u001b[0m \u001b[0mparser\u001b[0m\u001b[0;34m.\u001b[0m\u001b[0mread\u001b[0m\u001b[0;34m(\u001b[0m\u001b[0mnrows\u001b[0m\u001b[0;34m)\u001b[0m\u001b[0;34m\u001b[0m\u001b[0;34m\u001b[0m\u001b[0m\n\u001b[0m\u001b[1;32m    461\u001b[0m     \u001b[0;32mfinally\u001b[0m\u001b[0;34m:\u001b[0m\u001b[0;34m\u001b[0m\u001b[0;34m\u001b[0m\u001b[0m\n\u001b[1;32m    462\u001b[0m         \u001b[0mparser\u001b[0m\u001b[0;34m.\u001b[0m\u001b[0mclose\u001b[0m\u001b[0;34m(\u001b[0m\u001b[0;34m)\u001b[0m\u001b[0;34m\u001b[0m\u001b[0;34m\u001b[0m\u001b[0m\n",
            "\u001b[0;32m/usr/local/lib/python3.7/dist-packages/pandas/io/parsers.py\u001b[0m in \u001b[0;36mread\u001b[0;34m(self, nrows)\u001b[0m\n\u001b[1;32m   1196\u001b[0m     \u001b[0;32mdef\u001b[0m \u001b[0mread\u001b[0m\u001b[0;34m(\u001b[0m\u001b[0mself\u001b[0m\u001b[0;34m,\u001b[0m \u001b[0mnrows\u001b[0m\u001b[0;34m=\u001b[0m\u001b[0;32mNone\u001b[0m\u001b[0;34m)\u001b[0m\u001b[0;34m:\u001b[0m\u001b[0;34m\u001b[0m\u001b[0;34m\u001b[0m\u001b[0m\n\u001b[1;32m   1197\u001b[0m         \u001b[0mnrows\u001b[0m \u001b[0;34m=\u001b[0m \u001b[0m_validate_integer\u001b[0m\u001b[0;34m(\u001b[0m\u001b[0;34m\"nrows\"\u001b[0m\u001b[0;34m,\u001b[0m \u001b[0mnrows\u001b[0m\u001b[0;34m)\u001b[0m\u001b[0;34m\u001b[0m\u001b[0;34m\u001b[0m\u001b[0m\n\u001b[0;32m-> 1198\u001b[0;31m         \u001b[0mret\u001b[0m \u001b[0;34m=\u001b[0m \u001b[0mself\u001b[0m\u001b[0;34m.\u001b[0m\u001b[0m_engine\u001b[0m\u001b[0;34m.\u001b[0m\u001b[0mread\u001b[0m\u001b[0;34m(\u001b[0m\u001b[0mnrows\u001b[0m\u001b[0;34m)\u001b[0m\u001b[0;34m\u001b[0m\u001b[0;34m\u001b[0m\u001b[0m\n\u001b[0m\u001b[1;32m   1199\u001b[0m \u001b[0;34m\u001b[0m\u001b[0m\n\u001b[1;32m   1200\u001b[0m         \u001b[0;31m# May alter columns / col_dict\u001b[0m\u001b[0;34m\u001b[0m\u001b[0;34m\u001b[0m\u001b[0;34m\u001b[0m\u001b[0m\n",
            "\u001b[0;32m/usr/local/lib/python3.7/dist-packages/pandas/io/parsers.py\u001b[0m in \u001b[0;36mread\u001b[0;34m(self, nrows)\u001b[0m\n\u001b[1;32m   2155\u001b[0m     \u001b[0;32mdef\u001b[0m \u001b[0mread\u001b[0m\u001b[0;34m(\u001b[0m\u001b[0mself\u001b[0m\u001b[0;34m,\u001b[0m \u001b[0mnrows\u001b[0m\u001b[0;34m=\u001b[0m\u001b[0;32mNone\u001b[0m\u001b[0;34m)\u001b[0m\u001b[0;34m:\u001b[0m\u001b[0;34m\u001b[0m\u001b[0;34m\u001b[0m\u001b[0m\n\u001b[1;32m   2156\u001b[0m         \u001b[0;32mtry\u001b[0m\u001b[0;34m:\u001b[0m\u001b[0;34m\u001b[0m\u001b[0;34m\u001b[0m\u001b[0m\n\u001b[0;32m-> 2157\u001b[0;31m             \u001b[0mdata\u001b[0m \u001b[0;34m=\u001b[0m \u001b[0mself\u001b[0m\u001b[0;34m.\u001b[0m\u001b[0m_reader\u001b[0m\u001b[0;34m.\u001b[0m\u001b[0mread\u001b[0m\u001b[0;34m(\u001b[0m\u001b[0mnrows\u001b[0m\u001b[0;34m)\u001b[0m\u001b[0;34m\u001b[0m\u001b[0;34m\u001b[0m\u001b[0m\n\u001b[0m\u001b[1;32m   2158\u001b[0m         \u001b[0;32mexcept\u001b[0m \u001b[0mStopIteration\u001b[0m\u001b[0;34m:\u001b[0m\u001b[0;34m\u001b[0m\u001b[0;34m\u001b[0m\u001b[0m\n\u001b[1;32m   2159\u001b[0m             \u001b[0;32mif\u001b[0m \u001b[0mself\u001b[0m\u001b[0;34m.\u001b[0m\u001b[0m_first_chunk\u001b[0m\u001b[0;34m:\u001b[0m\u001b[0;34m\u001b[0m\u001b[0;34m\u001b[0m\u001b[0m\n",
            "\u001b[0;32mpandas/_libs/parsers.pyx\u001b[0m in \u001b[0;36mpandas._libs.parsers.TextReader.read\u001b[0;34m()\u001b[0m\n",
            "\u001b[0;32mpandas/_libs/parsers.pyx\u001b[0m in \u001b[0;36mpandas._libs.parsers.TextReader._read_low_memory\u001b[0;34m()\u001b[0m\n",
            "\u001b[0;32mpandas/_libs/parsers.pyx\u001b[0m in \u001b[0;36mpandas._libs.parsers.TextReader._read_rows\u001b[0;34m()\u001b[0m\n",
            "\u001b[0;32mpandas/_libs/parsers.pyx\u001b[0m in \u001b[0;36mpandas._libs.parsers.TextReader._tokenize_rows\u001b[0;34m()\u001b[0m\n",
            "\u001b[0;32mpandas/_libs/parsers.pyx\u001b[0m in \u001b[0;36mpandas._libs.parsers.raise_parser_error\u001b[0;34m()\u001b[0m\n",
            "\u001b[0;31mParserError\u001b[0m: Error tokenizing data. C error: Expected 1 fields in line 51, saw 3\n"
          ]
        }
      ]
    },
    {
      "cell_type": "markdown",
      "metadata": {
        "id": "EG3J1p4gYBu6"
      },
      "source": [
        "---------------------------------------------------------------------------"
      ]
    },
    {
      "cell_type": "markdown",
      "metadata": {
        "id": "nDwSOkSuI5Hg"
      },
      "source": [
        "NYU Analytic Statistics Final Project Part 2"
      ]
    },
    {
      "cell_type": "code",
      "metadata": {
        "id": "DR0WKYxf4sb1"
      },
      "source": [
        "from google.colab import auth\n",
        "auth.authenticate_user()\n",
        "\n",
        "import gspread\n",
        "from oauth2client.client import GoogleCredentials\n",
        "\n",
        "gc = gspread.authorize(GoogleCredentials.get_application_default())"
      ],
      "execution_count": null,
      "outputs": []
    },
    {
      "cell_type": "code",
      "metadata": {
        "id": "cQuvVDeZI4JB"
      },
      "source": [
        "import numpy as np\r\n",
        "import pandas as pd"
      ],
      "execution_count": null,
      "outputs": []
    },
    {
      "cell_type": "code",
      "metadata": {
        "colab": {
          "base_uri": "https://localhost:8080/"
        },
        "id": "SZeDS1UU4x3t",
        "outputId": "667a8aeb-ce41-492f-f13c-9e793bbd70ff"
      },
      "source": [
        "s = pd.Series([1, 3, 5, np.nan, 6, 8])\r\n",
        "s"
      ],
      "execution_count": null,
      "outputs": [
        {
          "output_type": "execute_result",
          "data": {
            "text/plain": [
              "0    1.0\n",
              "1    3.0\n",
              "2    5.0\n",
              "3    NaN\n",
              "4    6.0\n",
              "5    8.0\n",
              "dtype: float64"
            ]
          },
          "metadata": {
            "tags": []
          },
          "execution_count": 3
        }
      ]
    },
    {
      "cell_type": "code",
      "metadata": {
        "id": "R66LEuPT6HFu",
        "colab": {
          "base_uri": "https://localhost:8080/"
        },
        "outputId": "e5e9d407-7397-4d9d-dcfe-3463680895d9"
      },
      "source": [
        "wb = gc.open_by_url('https://docs.google.com/spreadsheets/d/1eTN3IO-kS0HD84a_Tsaq2UDskv5Hw2nUsEtYvHQyIJ8/edit#gid=2103295413')\r\n",
        "sheet = wb.worksheet('NYU Telehealth Adoption Survey_March 8, 2021_17.58')\r\n",
        "data = sheet.get_all_values()\r\n",
        "#print( type(data) )"
      ],
      "execution_count": null,
      "outputs": [
        {
          "output_type": "stream",
          "text": [
            "<class 'list'>\n"
          ],
          "name": "stdout"
        }
      ]
    },
    {
      "cell_type": "code",
      "metadata": {
        "id": "Bj2Xs6iZGJn0"
      },
      "source": [
        "# Save data to serilized byte obj\r\n",
        "import pickle \r\n",
        "\r\n",
        "out_file = open('list_freeze','wb')\r\n",
        "pickle.dump(data, out_file)\r\n",
        "out_file.close()\r\n",
        "\r\n",
        "# this didnt work, i should probably save this to a local csv "
      ],
      "execution_count": null,
      "outputs": []
    },
    {
      "cell_type": "code",
      "metadata": {
        "colab": {
          "base_uri": "https://localhost:8080/"
        },
        "id": "k4eXUO2-HQyV",
        "outputId": "918bbfa5-d3d9-4139-ad64-09a7b690a5dc"
      },
      "source": [
        "%ls\r\n",
        "%rm csv_freeze"
      ],
      "execution_count": null,
      "outputs": [
        {
          "output_type": "stream",
          "text": [
            "adc.json  list_freeze  \u001b[0m\u001b[01;34msample_data\u001b[0m/\n",
            "rm: cannot remove 'csv_freeze': No such file or directory\n"
          ],
          "name": "stdout"
        }
      ]
    },
    {
      "cell_type": "code",
      "metadata": {
        "colab": {
          "base_uri": "https://localhost:8080/",
          "height": 551
        },
        "id": "kkFQetdp7t1E",
        "outputId": "d4095dfb-8c34-465c-e2b9-3a78a24a4cad"
      },
      "source": [
        "'''\r\n",
        "in_file = open('list_freeze','rb') \r\n",
        "data_list= list(in_file)\r\n",
        "in_file.close()\r\n",
        "print(type(data_list))\r\n",
        "print(data_list[0])\r\n",
        "'''\r\n",
        "\r\n",
        "\r\n",
        "df = pd.DataFrame(data)\r\n",
        "df.columns = df.iloc[0]\r\n",
        "df = df.iloc[3:]\r\n",
        "df.head()\r\n"
      ],
      "execution_count": null,
      "outputs": [
        {
          "output_type": "execute_result",
          "data": {
            "text/html": [
              "<div>\n",
              "<style scoped>\n",
              "    .dataframe tbody tr th:only-of-type {\n",
              "        vertical-align: middle;\n",
              "    }\n",
              "\n",
              "    .dataframe tbody tr th {\n",
              "        vertical-align: top;\n",
              "    }\n",
              "\n",
              "    .dataframe thead th {\n",
              "        text-align: right;\n",
              "    }\n",
              "</style>\n",
              "<table border=\"1\" class=\"dataframe\">\n",
              "  <thead>\n",
              "    <tr style=\"text-align: right;\">\n",
              "      <th></th>\n",
              "      <th>StartDate</th>\n",
              "      <th>EndDate</th>\n",
              "      <th>Status</th>\n",
              "      <th>IPAddress</th>\n",
              "      <th>Progress</th>\n",
              "      <th>Duration (in seconds)</th>\n",
              "      <th>Finished</th>\n",
              "      <th>RecordedDate</th>\n",
              "      <th>ResponseId</th>\n",
              "      <th>RecipientLastName</th>\n",
              "      <th>RecipientFirstName</th>\n",
              "      <th>RecipientEmail</th>\n",
              "      <th>ExternalReference</th>\n",
              "      <th>LocationLatitude</th>\n",
              "      <th>LocationLongitude</th>\n",
              "      <th>DistributionChannel</th>\n",
              "      <th>UserLanguage</th>\n",
              "      <th>Q1</th>\n",
              "      <th>Q2</th>\n",
              "      <th>Q3</th>\n",
              "      <th>Q4</th>\n",
              "      <th>Q5</th>\n",
              "      <th>Q6</th>\n",
              "      <th>Q7</th>\n",
              "      <th>Q8</th>\n",
              "      <th>Q9</th>\n",
              "      <th>Q10</th>\n",
              "      <th>Q11</th>\n",
              "      <th>Q12</th>\n",
              "      <th>Q13</th>\n",
              "      <th>Q14</th>\n",
              "      <th>Q15</th>\n",
              "      <th>Q16</th>\n",
              "      <th>Q17</th>\n",
              "      <th>Q18_Browser</th>\n",
              "      <th>Q18_Version</th>\n",
              "      <th>Q18_Operating System</th>\n",
              "      <th>Q18_Resolution</th>\n",
              "      <th>Q19_First Click</th>\n",
              "      <th>Q19_Last Click</th>\n",
              "      <th>Q19_Page Submit</th>\n",
              "      <th>Q19_Click Count</th>\n",
              "      <th>refID</th>\n",
              "      <th>rand</th>\n",
              "    </tr>\n",
              "  </thead>\n",
              "  <tbody>\n",
              "    <tr>\n",
              "      <th>3</th>\n",
              "      <td>2021-03-03 14:30:57</td>\n",
              "      <td>2021-03-03 14:32:09</td>\n",
              "      <td>IP Address</td>\n",
              "      <td>216.165.127.12</td>\n",
              "      <td>100</td>\n",
              "      <td>71</td>\n",
              "      <td>TRUE</td>\n",
              "      <td>2021-03-03 14:32:09</td>\n",
              "      <td>R_3PFvmOtYU5oMJzk</td>\n",
              "      <td>Quinn</td>\n",
              "      <td>Gwendolyn</td>\n",
              "      <td>Gwendolyn.Quinn@nyumc.org</td>\n",
              "      <td></td>\n",
              "      <td>40.72520447</td>\n",
              "      <td>-73.94400024</td>\n",
              "      <td>email</td>\n",
              "      <td>EN</td>\n",
              "      <td>Female</td>\n",
              "      <td>White</td>\n",
              "      <td>Yes</td>\n",
              "      <td>56</td>\n",
              "      <td></td>\n",
              "      <td>No</td>\n",
              "      <td>Yes</td>\n",
              "      <td>1</td>\n",
              "      <td>25</td>\n",
              "      <td>Yes</td>\n",
              "      <td>2</td>\n",
              "      <td>2</td>\n",
              "      <td>Somewhat more</td>\n",
              "      <td>No, but I would like to try</td>\n",
              "      <td></td>\n",
              "      <td></td>\n",
              "      <td>Yes</td>\n",
              "      <td>Chrome</td>\n",
              "      <td>88.0.4324.190</td>\n",
              "      <td>Windows NT 10.0</td>\n",
              "      <td>1920x1080</td>\n",
              "      <td>2.317</td>\n",
              "      <td>43.384</td>\n",
              "      <td>46.842</td>\n",
              "      <td>17</td>\n",
              "      <td></td>\n",
              "      <td>4956</td>\n",
              "    </tr>\n",
              "    <tr>\n",
              "      <th>4</th>\n",
              "      <td>2021-03-03 14:55:37</td>\n",
              "      <td>2021-03-03 14:57:08</td>\n",
              "      <td>IP Address</td>\n",
              "      <td>209.122.243.102</td>\n",
              "      <td>100</td>\n",
              "      <td>90</td>\n",
              "      <td>TRUE</td>\n",
              "      <td>2021-03-03 14:57:08</td>\n",
              "      <td>R_2frhNOAQbLRraBk</td>\n",
              "      <td>Ling</td>\n",
              "      <td>Ariane</td>\n",
              "      <td>Ariane.Ling@nyumc.org</td>\n",
              "      <td></td>\n",
              "      <td>40.74279785</td>\n",
              "      <td>-73.97119904</td>\n",
              "      <td>email</td>\n",
              "      <td>EN</td>\n",
              "      <td>Female</td>\n",
              "      <td>Asian</td>\n",
              "      <td>No</td>\n",
              "      <td>34</td>\n",
              "      <td>Other</td>\n",
              "      <td>No</td>\n",
              "      <td>Yes</td>\n",
              "      <td>0</td>\n",
              "      <td>20</td>\n",
              "      <td>No</td>\n",
              "      <td></td>\n",
              "      <td></td>\n",
              "      <td>About the same</td>\n",
              "      <td>No, but I would like to try</td>\n",
              "      <td></td>\n",
              "      <td></td>\n",
              "      <td>Yes</td>\n",
              "      <td>Chrome</td>\n",
              "      <td>88.0.4324.96</td>\n",
              "      <td>Macintosh</td>\n",
              "      <td>1440x900</td>\n",
              "      <td>2.794</td>\n",
              "      <td>61.458</td>\n",
              "      <td>66.391</td>\n",
              "      <td>7</td>\n",
              "      <td></td>\n",
              "      <td>4180</td>\n",
              "    </tr>\n",
              "    <tr>\n",
              "      <th>5</th>\n",
              "      <td>2021-03-03 16:11:17</td>\n",
              "      <td>2021-03-03 16:12:44</td>\n",
              "      <td>IP Address</td>\n",
              "      <td>216.165.126.117</td>\n",
              "      <td>100</td>\n",
              "      <td>86</td>\n",
              "      <td>TRUE</td>\n",
              "      <td>2021-03-03 16:12:44</td>\n",
              "      <td>R_293Mhj9hYj8MI5V</td>\n",
              "      <td>Chen</td>\n",
              "      <td>Zhe</td>\n",
              "      <td>Zhe.Chen@nyumc.org</td>\n",
              "      <td></td>\n",
              "      <td>40.74279785</td>\n",
              "      <td>-73.97119904</td>\n",
              "      <td>email</td>\n",
              "      <td>EN</td>\n",
              "      <td>Male</td>\n",
              "      <td>Asian</td>\n",
              "      <td>No</td>\n",
              "      <td>44</td>\n",
              "      <td>Other</td>\n",
              "      <td>No</td>\n",
              "      <td>No</td>\n",
              "      <td></td>\n",
              "      <td></td>\n",
              "      <td>No</td>\n",
              "      <td></td>\n",
              "      <td></td>\n",
              "      <td>About the same</td>\n",
              "      <td>No, but I would like to try</td>\n",
              "      <td></td>\n",
              "      <td></td>\n",
              "      <td>No</td>\n",
              "      <td>Chrome</td>\n",
              "      <td>80.0.3987.87</td>\n",
              "      <td>Macintosh</td>\n",
              "      <td>2560x1440</td>\n",
              "      <td>4.127</td>\n",
              "      <td>40.687</td>\n",
              "      <td>44.049</td>\n",
              "      <td>6</td>\n",
              "      <td></td>\n",
              "      <td>5743</td>\n",
              "    </tr>\n",
              "    <tr>\n",
              "      <th>6</th>\n",
              "      <td>2021-03-03 16:49:34</td>\n",
              "      <td>2021-03-03 16:51:04</td>\n",
              "      <td>IP Address</td>\n",
              "      <td>74.105.255.69</td>\n",
              "      <td>100</td>\n",
              "      <td>90</td>\n",
              "      <td>TRUE</td>\n",
              "      <td>2021-03-03 16:51:05</td>\n",
              "      <td>R_1hW0HVkJLYy9HnD</td>\n",
              "      <td>Cascio</td>\n",
              "      <td>Denise</td>\n",
              "      <td>Denise.Cascio@nyumc.org</td>\n",
              "      <td></td>\n",
              "      <td>40.99819946</td>\n",
              "      <td>-74.16619873</td>\n",
              "      <td>email</td>\n",
              "      <td>EN</td>\n",
              "      <td>Female</td>\n",
              "      <td>White</td>\n",
              "      <td>No</td>\n",
              "      <td>44</td>\n",
              "      <td>Other</td>\n",
              "      <td>No</td>\n",
              "      <td>Yes</td>\n",
              "      <td>0</td>\n",
              "      <td>2</td>\n",
              "      <td>No</td>\n",
              "      <td></td>\n",
              "      <td></td>\n",
              "      <td>About the same</td>\n",
              "      <td>No, I would defiantly not want to try</td>\n",
              "      <td></td>\n",
              "      <td></td>\n",
              "      <td>No</td>\n",
              "      <td>Safari iPhone</td>\n",
              "      <td>14.0.3</td>\n",
              "      <td>iPhone</td>\n",
              "      <td>414x896</td>\n",
              "      <td>4.906</td>\n",
              "      <td>50.918</td>\n",
              "      <td>52.748</td>\n",
              "      <td>16</td>\n",
              "      <td></td>\n",
              "      <td>426</td>\n",
              "    </tr>\n",
              "    <tr>\n",
              "      <th>7</th>\n",
              "      <td>2021-03-03 19:14:25</td>\n",
              "      <td>2021-03-03 19:17:40</td>\n",
              "      <td>IP Address</td>\n",
              "      <td>216.165.126.103</td>\n",
              "      <td>100</td>\n",
              "      <td>194</td>\n",
              "      <td>TRUE</td>\n",
              "      <td>2021-03-03 19:17:40</td>\n",
              "      <td>R_1I60oBU9NGzwke5</td>\n",
              "      <td>Bizekis</td>\n",
              "      <td>Costas</td>\n",
              "      <td>Costas.Bizekis@nyulangone.org</td>\n",
              "      <td></td>\n",
              "      <td>40.74279785</td>\n",
              "      <td>-73.97119904</td>\n",
              "      <td>email</td>\n",
              "      <td>EN</td>\n",
              "      <td>Male</td>\n",
              "      <td>Decline to Identify</td>\n",
              "      <td>Decline to Identify</td>\n",
              "      <td>50</td>\n",
              "      <td>Physician</td>\n",
              "      <td>No</td>\n",
              "      <td>Yes</td>\n",
              "      <td>0</td>\n",
              "      <td>4</td>\n",
              "      <td>Yes</td>\n",
              "      <td>2</td>\n",
              "      <td>1</td>\n",
              "      <td>Somewhat more</td>\n",
              "      <td>No, but I would like to try</td>\n",
              "      <td></td>\n",
              "      <td></td>\n",
              "      <td>Yes</td>\n",
              "      <td>Chrome</td>\n",
              "      <td>88.0.4324.190</td>\n",
              "      <td>Windows NT 10.0</td>\n",
              "      <td>1920x1080</td>\n",
              "      <td>3.101</td>\n",
              "      <td>81.452</td>\n",
              "      <td>86.923</td>\n",
              "      <td>17</td>\n",
              "      <td></td>\n",
              "      <td>3961</td>\n",
              "    </tr>\n",
              "  </tbody>\n",
              "</table>\n",
              "</div>"
            ],
            "text/plain": [
              "0            StartDate              EndDate  ... refID  rand\n",
              "3  2021-03-03 14:30:57  2021-03-03 14:32:09  ...        4956\n",
              "4  2021-03-03 14:55:37  2021-03-03 14:57:08  ...        4180\n",
              "5  2021-03-03 16:11:17  2021-03-03 16:12:44  ...        5743\n",
              "6  2021-03-03 16:49:34  2021-03-03 16:51:04  ...         426\n",
              "7  2021-03-03 19:14:25  2021-03-03 19:17:40  ...        3961\n",
              "\n",
              "[5 rows x 44 columns]"
            ]
          },
          "metadata": {
            "tags": []
          },
          "execution_count": 92
        }
      ]
    },
    {
      "cell_type": "markdown",
      "metadata": {
        "id": "C7hoJioHU5Qv"
      },
      "source": [
        "Maybe Just pickle the dataframe instead? "
      ]
    },
    {
      "cell_type": "code",
      "metadata": {
        "id": "QYPlNCC5U8Pm"
      },
      "source": [
        "'''\r\n",
        "out_file = open('df','wb')\r\n",
        "pickle.dump(df, out_file)\r\n",
        "out_file.close()\r\n",
        "'''\r\n",
        "\r\n",
        "df.to_pickle('./df2.pkl')"
      ],
      "execution_count": null,
      "outputs": []
    },
    {
      "cell_type": "code",
      "metadata": {
        "colab": {
          "base_uri": "https://localhost:8080/"
        },
        "id": "FUyDRc3oVJW4",
        "outputId": "3450bcf8-22d0-4251-a2bd-88477cfc9833"
      },
      "source": [
        "%ls -alt\r\n",
        "%rm df"
      ],
      "execution_count": null,
      "outputs": [
        {
          "output_type": "stream",
          "text": [
            "total 100\n",
            "drwxr-xr-x 1 root root  4096 Mar  9 00:19 \u001b[0m\u001b[01;34m.\u001b[0m/\n",
            "-rw-r--r-- 1 root root 34307 Mar  9 00:19 df2.pkl\n",
            "-rw-r--r-- 1 root root 34307 Mar  9 00:18 df2\n",
            "-rw-r--r-- 1 root root   720 Mar  8 23:00 adc.json\n",
            "drwxr-xr-x 1 root root  4096 Mar  8 23:00 \u001b[01;34m.config\u001b[0m/\n",
            "drwxr-xr-x 1 root root  4096 Mar  8 22:53 \u001b[01;34m..\u001b[0m/\n",
            "drwxr-xr-x 1 root root  4096 Mar  5 14:37 \u001b[01;34msample_data\u001b[0m/\n",
            "rm: cannot remove 'df': No such file or directory\n"
          ],
          "name": "stdout"
        }
      ]
    },
    {
      "cell_type": "code",
      "metadata": {
        "colab": {
          "base_uri": "https://localhost:8080/",
          "height": 183
        },
        "id": "rwDuP7cIVYM3",
        "outputId": "87bc9516-7cdb-4598-c169-138bdd0c2fc9"
      },
      "source": [
        "df = []\r\n",
        "df.head()"
      ],
      "execution_count": null,
      "outputs": [
        {
          "output_type": "error",
          "ename": "AttributeError",
          "evalue": "ignored",
          "traceback": [
            "\u001b[0;31m---------------------------------------------------------------------------\u001b[0m",
            "\u001b[0;31mAttributeError\u001b[0m                            Traceback (most recent call last)",
            "\u001b[0;32m<ipython-input-63-ecc6f98fe010>\u001b[0m in \u001b[0;36m<module>\u001b[0;34m()\u001b[0m\n\u001b[1;32m      1\u001b[0m \u001b[0mdf\u001b[0m \u001b[0;34m=\u001b[0m \u001b[0;34m[\u001b[0m\u001b[0;34m]\u001b[0m\u001b[0;34m\u001b[0m\u001b[0;34m\u001b[0m\u001b[0m\n\u001b[0;32m----> 2\u001b[0;31m \u001b[0mdf\u001b[0m\u001b[0;34m.\u001b[0m\u001b[0mhead\u001b[0m\u001b[0;34m(\u001b[0m\u001b[0;34m)\u001b[0m\u001b[0;34m\u001b[0m\u001b[0;34m\u001b[0m\u001b[0m\n\u001b[0m",
            "\u001b[0;31mAttributeError\u001b[0m: 'list' object has no attribute 'head'"
          ]
        }
      ]
    },
    {
      "cell_type": "code",
      "metadata": {
        "colab": {
          "base_uri": "https://localhost:8080/",
          "height": 519
        },
        "id": "gP6-COrUVUNJ",
        "outputId": "e10384c8-99a4-42e4-cebc-172083763829"
      },
      "source": [
        "'''\r\n",
        "in_file = open('df','rb') \r\n",
        "df = pd.DataFrame(in_file)\r\n",
        "in_file.close()\r\n",
        "'''\r\n",
        "import base64\r\n",
        "\r\n",
        "in_file = open('df2','rb') \r\n",
        "df_p = in_file.read()\r\n",
        "df64 = base64.b64encode(df_p)\r\n",
        "in_file.close()\r\n",
        "\r\n",
        "\r\n",
        "df = pd.read_pickle(df64)\r\n",
        "df.head()\r\n"
      ],
      "execution_count": null,
      "outputs": [
        {
          "output_type": "error",
          "ename": "AttributeError",
          "evalue": "ignored",
          "traceback": [
            "\u001b[0;31m---------------------------------------------------------------------------\u001b[0m",
            "\u001b[0;31mTypeError\u001b[0m                                 Traceback (most recent call last)",
            "\u001b[0;32m/usr/local/lib/python3.7/dist-packages/pandas/io/pickle.py\u001b[0m in \u001b[0;36mread_pickle\u001b[0;34m(filepath_or_buffer, compression)\u001b[0m\n\u001b[1;32m    181\u001b[0m                 \u001b[0mwarnings\u001b[0m\u001b[0;34m.\u001b[0m\u001b[0msimplefilter\u001b[0m\u001b[0;34m(\u001b[0m\u001b[0;34m\"ignore\"\u001b[0m\u001b[0;34m,\u001b[0m \u001b[0mWarning\u001b[0m\u001b[0;34m)\u001b[0m\u001b[0;34m\u001b[0m\u001b[0;34m\u001b[0m\u001b[0m\n\u001b[0;32m--> 182\u001b[0;31m                 \u001b[0;32mreturn\u001b[0m \u001b[0mpickle\u001b[0m\u001b[0;34m.\u001b[0m\u001b[0mload\u001b[0m\u001b[0;34m(\u001b[0m\u001b[0mf\u001b[0m\u001b[0;34m)\u001b[0m\u001b[0;34m\u001b[0m\u001b[0;34m\u001b[0m\u001b[0m\n\u001b[0m\u001b[1;32m    183\u001b[0m         \u001b[0;32mexcept\u001b[0m \u001b[0mexcs_to_catch\u001b[0m\u001b[0;34m:\u001b[0m\u001b[0;34m\u001b[0m\u001b[0;34m\u001b[0m\u001b[0m\n",
            "\u001b[0;31mTypeError\u001b[0m: file must have 'read' and 'readline' attributes",
            "\nDuring handling of the above exception, another exception occurred:\n",
            "\u001b[0;31mAttributeError\u001b[0m                            Traceback (most recent call last)",
            "\u001b[0;32m/usr/local/lib/python3.7/dist-packages/pandas/io/pickle.py\u001b[0m in \u001b[0;36mread_pickle\u001b[0;34m(filepath_or_buffer, compression)\u001b[0m\n\u001b[1;32m    186\u001b[0m             \u001b[0;31m#  \"Can't get attribute '__nat_unpickle' on <module 'pandas._libs.tslib\"\u001b[0m\u001b[0;34m\u001b[0m\u001b[0;34m\u001b[0m\u001b[0;34m\u001b[0m\u001b[0m\n\u001b[0;32m--> 187\u001b[0;31m             \u001b[0;32mreturn\u001b[0m \u001b[0mpc\u001b[0m\u001b[0;34m.\u001b[0m\u001b[0mload\u001b[0m\u001b[0;34m(\u001b[0m\u001b[0mf\u001b[0m\u001b[0;34m,\u001b[0m \u001b[0mencoding\u001b[0m\u001b[0;34m=\u001b[0m\u001b[0;32mNone\u001b[0m\u001b[0;34m)\u001b[0m\u001b[0;34m\u001b[0m\u001b[0;34m\u001b[0m\u001b[0m\n\u001b[0m\u001b[1;32m    188\u001b[0m     \u001b[0;32mexcept\u001b[0m \u001b[0mUnicodeDecodeError\u001b[0m\u001b[0;34m:\u001b[0m\u001b[0;34m\u001b[0m\u001b[0;34m\u001b[0m\u001b[0m\n",
            "\u001b[0;32m/usr/local/lib/python3.7/dist-packages/pandas/compat/pickle_compat.py\u001b[0m in \u001b[0;36mload\u001b[0;34m(fh, encoding, is_verbose)\u001b[0m\n\u001b[1;32m    241\u001b[0m     \u001b[0;32mtry\u001b[0m\u001b[0;34m:\u001b[0m\u001b[0;34m\u001b[0m\u001b[0;34m\u001b[0m\u001b[0m\n\u001b[0;32m--> 242\u001b[0;31m         \u001b[0mfh\u001b[0m\u001b[0;34m.\u001b[0m\u001b[0mseek\u001b[0m\u001b[0;34m(\u001b[0m\u001b[0;36m0\u001b[0m\u001b[0;34m)\u001b[0m\u001b[0;34m\u001b[0m\u001b[0;34m\u001b[0m\u001b[0m\n\u001b[0m\u001b[1;32m    243\u001b[0m         \u001b[0;32mif\u001b[0m \u001b[0mencoding\u001b[0m \u001b[0;32mis\u001b[0m \u001b[0;32mnot\u001b[0m \u001b[0;32mNone\u001b[0m\u001b[0;34m:\u001b[0m\u001b[0;34m\u001b[0m\u001b[0;34m\u001b[0m\u001b[0m\n",
            "\u001b[0;31mAttributeError\u001b[0m: 'bytes' object has no attribute 'seek'",
            "\nDuring handling of the above exception, another exception occurred:\n",
            "\u001b[0;31mAttributeError\u001b[0m                            Traceback (most recent call last)",
            "\u001b[0;32m<ipython-input-75-d1d8b668010c>\u001b[0m in \u001b[0;36m<module>\u001b[0;34m()\u001b[0m\n\u001b[1;32m     12\u001b[0m \u001b[0;34m\u001b[0m\u001b[0m\n\u001b[1;32m     13\u001b[0m \u001b[0;34m\u001b[0m\u001b[0m\n\u001b[0;32m---> 14\u001b[0;31m \u001b[0mdf\u001b[0m \u001b[0;34m=\u001b[0m \u001b[0mpd\u001b[0m\u001b[0;34m.\u001b[0m\u001b[0mread_pickle\u001b[0m\u001b[0;34m(\u001b[0m\u001b[0mdf64\u001b[0m\u001b[0;34m)\u001b[0m\u001b[0;34m\u001b[0m\u001b[0;34m\u001b[0m\u001b[0m\n\u001b[0m\u001b[1;32m     15\u001b[0m \u001b[0mdf\u001b[0m\u001b[0;34m.\u001b[0m\u001b[0mhead\u001b[0m\u001b[0;34m(\u001b[0m\u001b[0;34m)\u001b[0m\u001b[0;34m\u001b[0m\u001b[0;34m\u001b[0m\u001b[0m\n",
            "\u001b[0;32m/usr/local/lib/python3.7/dist-packages/pandas/io/pickle.py\u001b[0m in \u001b[0;36mread_pickle\u001b[0;34m(filepath_or_buffer, compression)\u001b[0m\n\u001b[1;32m    190\u001b[0m         \u001b[0;32mreturn\u001b[0m \u001b[0mpc\u001b[0m\u001b[0;34m.\u001b[0m\u001b[0mload\u001b[0m\u001b[0;34m(\u001b[0m\u001b[0mf\u001b[0m\u001b[0;34m,\u001b[0m \u001b[0mencoding\u001b[0m\u001b[0;34m=\u001b[0m\u001b[0;34m\"latin-1\"\u001b[0m\u001b[0;34m)\u001b[0m\u001b[0;34m\u001b[0m\u001b[0;34m\u001b[0m\u001b[0m\n\u001b[1;32m    191\u001b[0m     \u001b[0;32mfinally\u001b[0m\u001b[0;34m:\u001b[0m\u001b[0;34m\u001b[0m\u001b[0;34m\u001b[0m\u001b[0m\n\u001b[0;32m--> 192\u001b[0;31m         \u001b[0mf\u001b[0m\u001b[0;34m.\u001b[0m\u001b[0mclose\u001b[0m\u001b[0;34m(\u001b[0m\u001b[0;34m)\u001b[0m\u001b[0;34m\u001b[0m\u001b[0;34m\u001b[0m\u001b[0m\n\u001b[0m\u001b[1;32m    193\u001b[0m         \u001b[0;32mfor\u001b[0m \u001b[0m_f\u001b[0m \u001b[0;32min\u001b[0m \u001b[0mfh\u001b[0m\u001b[0;34m:\u001b[0m\u001b[0;34m\u001b[0m\u001b[0;34m\u001b[0m\u001b[0m\n\u001b[1;32m    194\u001b[0m             \u001b[0m_f\u001b[0m\u001b[0;34m.\u001b[0m\u001b[0mclose\u001b[0m\u001b[0;34m(\u001b[0m\u001b[0;34m)\u001b[0m\u001b[0;34m\u001b[0m\u001b[0;34m\u001b[0m\u001b[0m\n",
            "\u001b[0;31mAttributeError\u001b[0m: 'bytes' object has no attribute 'close'"
          ]
        }
      ]
    },
    {
      "cell_type": "code",
      "metadata": {
        "colab": {
          "base_uri": "https://localhost:8080/",
          "height": 295
        },
        "id": "udQOE2_xFD1g",
        "outputId": "e819ead8-3e08-4658-9b9b-a716df81019f"
      },
      "source": [
        "df.describe()"
      ],
      "execution_count": null,
      "outputs": [
        {
          "output_type": "execute_result",
          "data": {
            "text/html": [
              "<div>\n",
              "<style scoped>\n",
              "    .dataframe tbody tr th:only-of-type {\n",
              "        vertical-align: middle;\n",
              "    }\n",
              "\n",
              "    .dataframe tbody tr th {\n",
              "        vertical-align: top;\n",
              "    }\n",
              "\n",
              "    .dataframe thead th {\n",
              "        text-align: right;\n",
              "    }\n",
              "</style>\n",
              "<table border=\"1\" class=\"dataframe\">\n",
              "  <thead>\n",
              "    <tr style=\"text-align: right;\">\n",
              "      <th></th>\n",
              "      <th>StartDate</th>\n",
              "      <th>EndDate</th>\n",
              "      <th>Status</th>\n",
              "      <th>IPAddress</th>\n",
              "      <th>Progress</th>\n",
              "      <th>Duration (in seconds)</th>\n",
              "      <th>Finished</th>\n",
              "      <th>RecordedDate</th>\n",
              "      <th>ResponseId</th>\n",
              "      <th>RecipientLastName</th>\n",
              "      <th>RecipientFirstName</th>\n",
              "      <th>RecipientEmail</th>\n",
              "      <th>ExternalReference</th>\n",
              "      <th>LocationLatitude</th>\n",
              "      <th>LocationLongitude</th>\n",
              "      <th>DistributionChannel</th>\n",
              "      <th>UserLanguage</th>\n",
              "      <th>Q1</th>\n",
              "      <th>Q2</th>\n",
              "      <th>Q3</th>\n",
              "      <th>Q4</th>\n",
              "      <th>Q5</th>\n",
              "      <th>Q6</th>\n",
              "      <th>Q7</th>\n",
              "      <th>Q8</th>\n",
              "      <th>Q9</th>\n",
              "      <th>Q10</th>\n",
              "      <th>Q11</th>\n",
              "      <th>Q12</th>\n",
              "      <th>Q13</th>\n",
              "      <th>Q14</th>\n",
              "      <th>Q15</th>\n",
              "      <th>Q16</th>\n",
              "      <th>Q17</th>\n",
              "      <th>Q18_Browser</th>\n",
              "      <th>Q18_Version</th>\n",
              "      <th>Q18_Operating System</th>\n",
              "      <th>Q18_Resolution</th>\n",
              "      <th>Q19_First Click</th>\n",
              "      <th>Q19_Last Click</th>\n",
              "      <th>Q19_Page Submit</th>\n",
              "      <th>Q19_Click Count</th>\n",
              "      <th>refID</th>\n",
              "      <th>rand</th>\n",
              "    </tr>\n",
              "  </thead>\n",
              "  <tbody>\n",
              "    <tr>\n",
              "      <th>count</th>\n",
              "      <td>34</td>\n",
              "      <td>34</td>\n",
              "      <td>34</td>\n",
              "      <td>34</td>\n",
              "      <td>34</td>\n",
              "      <td>34</td>\n",
              "      <td>34</td>\n",
              "      <td>34</td>\n",
              "      <td>34</td>\n",
              "      <td>34</td>\n",
              "      <td>34</td>\n",
              "      <td>34</td>\n",
              "      <td>34</td>\n",
              "      <td>34</td>\n",
              "      <td>34</td>\n",
              "      <td>34</td>\n",
              "      <td>34</td>\n",
              "      <td>34</td>\n",
              "      <td>34</td>\n",
              "      <td>34</td>\n",
              "      <td>34</td>\n",
              "      <td>34</td>\n",
              "      <td>34</td>\n",
              "      <td>34</td>\n",
              "      <td>34</td>\n",
              "      <td>34</td>\n",
              "      <td>34</td>\n",
              "      <td>34</td>\n",
              "      <td>34</td>\n",
              "      <td>34</td>\n",
              "      <td>34</td>\n",
              "      <td>34</td>\n",
              "      <td>34</td>\n",
              "      <td>34</td>\n",
              "      <td>34</td>\n",
              "      <td>34</td>\n",
              "      <td>34</td>\n",
              "      <td>34</td>\n",
              "      <td>34</td>\n",
              "      <td>34</td>\n",
              "      <td>34</td>\n",
              "      <td>34</td>\n",
              "      <td>34</td>\n",
              "      <td>34</td>\n",
              "    </tr>\n",
              "    <tr>\n",
              "      <th>unique</th>\n",
              "      <td>34</td>\n",
              "      <td>34</td>\n",
              "      <td>1</td>\n",
              "      <td>30</td>\n",
              "      <td>1</td>\n",
              "      <td>28</td>\n",
              "      <td>1</td>\n",
              "      <td>34</td>\n",
              "      <td>34</td>\n",
              "      <td>33</td>\n",
              "      <td>33</td>\n",
              "      <td>34</td>\n",
              "      <td>1</td>\n",
              "      <td>22</td>\n",
              "      <td>21</td>\n",
              "      <td>1</td>\n",
              "      <td>1</td>\n",
              "      <td>2</td>\n",
              "      <td>5</td>\n",
              "      <td>3</td>\n",
              "      <td>20</td>\n",
              "      <td>4</td>\n",
              "      <td>1</td>\n",
              "      <td>2</td>\n",
              "      <td>6</td>\n",
              "      <td>15</td>\n",
              "      <td>2</td>\n",
              "      <td>6</td>\n",
              "      <td>5</td>\n",
              "      <td>5</td>\n",
              "      <td>4</td>\n",
              "      <td>3</td>\n",
              "      <td>3</td>\n",
              "      <td>2</td>\n",
              "      <td>5</td>\n",
              "      <td>15</td>\n",
              "      <td>6</td>\n",
              "      <td>14</td>\n",
              "      <td>34</td>\n",
              "      <td>34</td>\n",
              "      <td>34</td>\n",
              "      <td>18</td>\n",
              "      <td>1</td>\n",
              "      <td>34</td>\n",
              "    </tr>\n",
              "    <tr>\n",
              "      <th>top</th>\n",
              "      <td>2021-03-08 8:58:50</td>\n",
              "      <td>2021-03-06 13:34:21</td>\n",
              "      <td>IP Address</td>\n",
              "      <td>216.165.126.19</td>\n",
              "      <td>100</td>\n",
              "      <td>90</td>\n",
              "      <td>TRUE</td>\n",
              "      <td>2021-03-08 9:05:17</td>\n",
              "      <td>R_1I60oBU9NGzwke5</td>\n",
              "      <td>Passo</td>\n",
              "      <td>Seth</td>\n",
              "      <td>Zhe.Chen@nyumc.org</td>\n",
              "      <td></td>\n",
              "      <td>40.74279785</td>\n",
              "      <td>-73.97119904</td>\n",
              "      <td>email</td>\n",
              "      <td>EN</td>\n",
              "      <td>Female</td>\n",
              "      <td>White</td>\n",
              "      <td>No</td>\n",
              "      <td>34</td>\n",
              "      <td>Physician</td>\n",
              "      <td>No</td>\n",
              "      <td>Yes</td>\n",
              "      <td>0</td>\n",
              "      <td></td>\n",
              "      <td>Yes</td>\n",
              "      <td></td>\n",
              "      <td></td>\n",
              "      <td>Somewhat more</td>\n",
              "      <td>No, but I would like to try</td>\n",
              "      <td></td>\n",
              "      <td></td>\n",
              "      <td>Yes</td>\n",
              "      <td>Chrome</td>\n",
              "      <td>14.0.3</td>\n",
              "      <td>Macintosh</td>\n",
              "      <td>1440x900</td>\n",
              "      <td>3.543</td>\n",
              "      <td>113.535</td>\n",
              "      <td>66.391</td>\n",
              "      <td>16</td>\n",
              "      <td></td>\n",
              "      <td>9319</td>\n",
              "    </tr>\n",
              "    <tr>\n",
              "      <th>freq</th>\n",
              "      <td>1</td>\n",
              "      <td>1</td>\n",
              "      <td>34</td>\n",
              "      <td>3</td>\n",
              "      <td>34</td>\n",
              "      <td>2</td>\n",
              "      <td>34</td>\n",
              "      <td>1</td>\n",
              "      <td>1</td>\n",
              "      <td>2</td>\n",
              "      <td>2</td>\n",
              "      <td>1</td>\n",
              "      <td>34</td>\n",
              "      <td>11</td>\n",
              "      <td>11</td>\n",
              "      <td>34</td>\n",
              "      <td>34</td>\n",
              "      <td>22</td>\n",
              "      <td>23</td>\n",
              "      <td>32</td>\n",
              "      <td>3</td>\n",
              "      <td>24</td>\n",
              "      <td>34</td>\n",
              "      <td>28</td>\n",
              "      <td>21</td>\n",
              "      <td>6</td>\n",
              "      <td>17</td>\n",
              "      <td>17</td>\n",
              "      <td>17</td>\n",
              "      <td>17</td>\n",
              "      <td>23</td>\n",
              "      <td>32</td>\n",
              "      <td>32</td>\n",
              "      <td>19</td>\n",
              "      <td>15</td>\n",
              "      <td>14</td>\n",
              "      <td>12</td>\n",
              "      <td>6</td>\n",
              "      <td>1</td>\n",
              "      <td>1</td>\n",
              "      <td>1</td>\n",
              "      <td>4</td>\n",
              "      <td>34</td>\n",
              "      <td>1</td>\n",
              "    </tr>\n",
              "  </tbody>\n",
              "</table>\n",
              "</div>"
            ],
            "text/plain": [
              "0                StartDate              EndDate  ... refID  rand\n",
              "count                   34                   34  ...    34    34\n",
              "unique                  34                   34  ...     1    34\n",
              "top     2021-03-08 8:58:50  2021-03-06 13:34:21  ...        9319\n",
              "freq                     1                    1  ...    34     1\n",
              "\n",
              "[4 rows x 44 columns]"
            ]
          },
          "metadata": {
            "tags": []
          },
          "execution_count": 44
        }
      ]
    },
    {
      "cell_type": "code",
      "metadata": {
        "colab": {
          "base_uri": "https://localhost:8080/"
        },
        "id": "r44cGSEC9urs",
        "outputId": "071e1a18-13ba-498f-d558-d920dcd8e55d"
      },
      "source": [
        "df['Q12'].describe()"
      ],
      "execution_count": null,
      "outputs": [
        {
          "output_type": "execute_result",
          "data": {
            "text/plain": [
              "count     34\n",
              "unique     5\n",
              "top         \n",
              "freq      17\n",
              "Name: Q12, dtype: object"
            ]
          },
          "metadata": {
            "tags": []
          },
          "execution_count": 45
        }
      ]
    },
    {
      "cell_type": "code",
      "metadata": {
        "colab": {
          "base_uri": "https://localhost:8080/"
        },
        "id": "R-e5yDc4_I8A",
        "outputId": "cc61f9b5-4e64-454f-8605-b9da4e299d82"
      },
      "source": [
        "df[['Q11','Q12']].mean()"
      ],
      "execution_count": null,
      "outputs": [
        {
          "output_type": "execute_result",
          "data": {
            "text/plain": [
              "0\n",
              "Q11    6.479412e+15\n",
              "Q12    6.176471e+14\n",
              "dtype: float64"
            ]
          },
          "metadata": {
            "tags": []
          },
          "execution_count": 46
        }
      ]
    },
    {
      "cell_type": "markdown",
      "metadata": {
        "id": "9VJVq_dZFW4T"
      },
      "source": [
        "for some reason the describe fcn isnt working\r\n",
        "\r\n",
        "also, need to pre-process this data so that blank values are set to\r\n",
        "Q8, Q9, Q11, Q12, Q15, Q16"
      ]
    },
    {
      "cell_type": "code",
      "metadata": {
        "id": "TRNsvDK3Fjo5",
        "colab": {
          "base_uri": "https://localhost:8080/"
        },
        "outputId": "581da494-5b7f-4858-88c1-e005ad26b03a"
      },
      "source": [
        "print(df.Q8)\r\n",
        "'''\r\n",
        "df_test_col = df['Q8']\r\n",
        "print(type(df_test_col))\r\n",
        "print(df_test_col)\r\n",
        "print (df_test_col.dtypes)\r\n",
        "'''\r\n",
        "\r\n",
        "'''\r\n",
        "c = df.select_dtypes(np.number).columns\r\n",
        "df[c] = df[c].fillna(0)\r\n",
        "df = df.fillna(\"\")\r\n",
        "print (df)\r\n",
        "'''\r\n",
        "df['Q8'] = df['Q8'].replace(r'^\\s*$', 0, regex=True)\r\n",
        "print(df['Q8'])"
      ],
      "execution_count": null,
      "outputs": [
        {
          "output_type": "stream",
          "text": [
            "3      1\n",
            "4      0\n",
            "5       \n",
            "6      0\n",
            "7      0\n",
            "8      1\n",
            "9      0\n",
            "10     0\n",
            "11     0\n",
            "12     0\n",
            "13      \n",
            "14     0\n",
            "15     0\n",
            "16     0\n",
            "17     0\n",
            "18      \n",
            "19     0\n",
            "20     0\n",
            "21     0\n",
            "22     0\n",
            "23    10\n",
            "24     0\n",
            "25      \n",
            "26      \n",
            "27     0\n",
            "28    10\n",
            "29     1\n",
            "30     0\n",
            "31      \n",
            "32     0\n",
            "33     0\n",
            "34    15\n",
            "35     0\n",
            "36    12\n",
            "Name: Q8, dtype: object\n",
            "3      1\n",
            "4      0\n",
            "5      0\n",
            "6      0\n",
            "7      0\n",
            "8      1\n",
            "9      0\n",
            "10     0\n",
            "11     0\n",
            "12     0\n",
            "13     0\n",
            "14     0\n",
            "15     0\n",
            "16     0\n",
            "17     0\n",
            "18     0\n",
            "19     0\n",
            "20     0\n",
            "21     0\n",
            "22     0\n",
            "23    10\n",
            "24     0\n",
            "25     0\n",
            "26     0\n",
            "27     0\n",
            "28    10\n",
            "29     1\n",
            "30     0\n",
            "31     0\n",
            "32     0\n",
            "33     0\n",
            "34    15\n",
            "35     0\n",
            "36    12\n",
            "Name: Q8, dtype: object\n"
          ],
          "name": "stdout"
        }
      ]
    },
    {
      "cell_type": "code",
      "metadata": {
        "colab": {
          "base_uri": "https://localhost:8080/",
          "height": 551
        },
        "id": "MGv8BD55ULZV",
        "outputId": "780c700e-7018-490b-9824-f9da60682250"
      },
      "source": [
        "df=df.replace(r'^\\s*$', '0', regex=True)\r\n",
        "df=df.replace(r'> 45', '46', regex=True)\r\n",
        "\r\n",
        "df.head()"
      ],
      "execution_count": null,
      "outputs": [
        {
          "output_type": "execute_result",
          "data": {
            "text/html": [
              "<div>\n",
              "<style scoped>\n",
              "    .dataframe tbody tr th:only-of-type {\n",
              "        vertical-align: middle;\n",
              "    }\n",
              "\n",
              "    .dataframe tbody tr th {\n",
              "        vertical-align: top;\n",
              "    }\n",
              "\n",
              "    .dataframe thead th {\n",
              "        text-align: right;\n",
              "    }\n",
              "</style>\n",
              "<table border=\"1\" class=\"dataframe\">\n",
              "  <thead>\n",
              "    <tr style=\"text-align: right;\">\n",
              "      <th></th>\n",
              "      <th>StartDate</th>\n",
              "      <th>EndDate</th>\n",
              "      <th>Status</th>\n",
              "      <th>IPAddress</th>\n",
              "      <th>Progress</th>\n",
              "      <th>Duration (in seconds)</th>\n",
              "      <th>Finished</th>\n",
              "      <th>RecordedDate</th>\n",
              "      <th>ResponseId</th>\n",
              "      <th>RecipientLastName</th>\n",
              "      <th>RecipientFirstName</th>\n",
              "      <th>RecipientEmail</th>\n",
              "      <th>ExternalReference</th>\n",
              "      <th>LocationLatitude</th>\n",
              "      <th>LocationLongitude</th>\n",
              "      <th>DistributionChannel</th>\n",
              "      <th>UserLanguage</th>\n",
              "      <th>Q1</th>\n",
              "      <th>Q2</th>\n",
              "      <th>Q3</th>\n",
              "      <th>Q4</th>\n",
              "      <th>Q5</th>\n",
              "      <th>Q6</th>\n",
              "      <th>Q7</th>\n",
              "      <th>Q8</th>\n",
              "      <th>Q9</th>\n",
              "      <th>Q10</th>\n",
              "      <th>Q11</th>\n",
              "      <th>Q12</th>\n",
              "      <th>Q13</th>\n",
              "      <th>Q14</th>\n",
              "      <th>Q15</th>\n",
              "      <th>Q16</th>\n",
              "      <th>Q17</th>\n",
              "      <th>Q18_Browser</th>\n",
              "      <th>Q18_Version</th>\n",
              "      <th>Q18_Operating System</th>\n",
              "      <th>Q18_Resolution</th>\n",
              "      <th>Q19_First Click</th>\n",
              "      <th>Q19_Last Click</th>\n",
              "      <th>Q19_Page Submit</th>\n",
              "      <th>Q19_Click Count</th>\n",
              "      <th>refID</th>\n",
              "      <th>rand</th>\n",
              "    </tr>\n",
              "  </thead>\n",
              "  <tbody>\n",
              "    <tr>\n",
              "      <th>3</th>\n",
              "      <td>2021-03-03 14:30:57</td>\n",
              "      <td>2021-03-03 14:32:09</td>\n",
              "      <td>IP Address</td>\n",
              "      <td>216.165.127.12</td>\n",
              "      <td>100</td>\n",
              "      <td>71</td>\n",
              "      <td>TRUE</td>\n",
              "      <td>2021-03-03 14:32:09</td>\n",
              "      <td>R_3PFvmOtYU5oMJzk</td>\n",
              "      <td>Quinn</td>\n",
              "      <td>Gwendolyn</td>\n",
              "      <td>Gwendolyn.Quinn@nyumc.org</td>\n",
              "      <td>0</td>\n",
              "      <td>40.72520447</td>\n",
              "      <td>-73.94400024</td>\n",
              "      <td>email</td>\n",
              "      <td>EN</td>\n",
              "      <td>Female</td>\n",
              "      <td>White</td>\n",
              "      <td>Yes</td>\n",
              "      <td>56</td>\n",
              "      <td>0</td>\n",
              "      <td>No</td>\n",
              "      <td>Yes</td>\n",
              "      <td>1</td>\n",
              "      <td>25</td>\n",
              "      <td>Yes</td>\n",
              "      <td>2</td>\n",
              "      <td>2</td>\n",
              "      <td>Somewhat more</td>\n",
              "      <td>No, but I would like to try</td>\n",
              "      <td>0</td>\n",
              "      <td>0</td>\n",
              "      <td>Yes</td>\n",
              "      <td>Chrome</td>\n",
              "      <td>88.0.4324.190</td>\n",
              "      <td>Windows NT 10.0</td>\n",
              "      <td>1920x1080</td>\n",
              "      <td>2.317</td>\n",
              "      <td>43.384</td>\n",
              "      <td>46.842</td>\n",
              "      <td>17</td>\n",
              "      <td>0</td>\n",
              "      <td>4956</td>\n",
              "    </tr>\n",
              "    <tr>\n",
              "      <th>4</th>\n",
              "      <td>2021-03-03 14:55:37</td>\n",
              "      <td>2021-03-03 14:57:08</td>\n",
              "      <td>IP Address</td>\n",
              "      <td>209.122.243.102</td>\n",
              "      <td>100</td>\n",
              "      <td>90</td>\n",
              "      <td>TRUE</td>\n",
              "      <td>2021-03-03 14:57:08</td>\n",
              "      <td>R_2frhNOAQbLRraBk</td>\n",
              "      <td>Ling</td>\n",
              "      <td>Ariane</td>\n",
              "      <td>Ariane.Ling@nyumc.org</td>\n",
              "      <td>0</td>\n",
              "      <td>40.74279785</td>\n",
              "      <td>-73.97119904</td>\n",
              "      <td>email</td>\n",
              "      <td>EN</td>\n",
              "      <td>Female</td>\n",
              "      <td>Asian</td>\n",
              "      <td>No</td>\n",
              "      <td>34</td>\n",
              "      <td>Other</td>\n",
              "      <td>No</td>\n",
              "      <td>Yes</td>\n",
              "      <td>0</td>\n",
              "      <td>20</td>\n",
              "      <td>No</td>\n",
              "      <td>0</td>\n",
              "      <td>0</td>\n",
              "      <td>About the same</td>\n",
              "      <td>No, but I would like to try</td>\n",
              "      <td>0</td>\n",
              "      <td>0</td>\n",
              "      <td>Yes</td>\n",
              "      <td>Chrome</td>\n",
              "      <td>88.0.4324.96</td>\n",
              "      <td>Macintosh</td>\n",
              "      <td>1440x900</td>\n",
              "      <td>2.794</td>\n",
              "      <td>61.458</td>\n",
              "      <td>66.391</td>\n",
              "      <td>7</td>\n",
              "      <td>0</td>\n",
              "      <td>4180</td>\n",
              "    </tr>\n",
              "    <tr>\n",
              "      <th>5</th>\n",
              "      <td>2021-03-03 16:11:17</td>\n",
              "      <td>2021-03-03 16:12:44</td>\n",
              "      <td>IP Address</td>\n",
              "      <td>216.165.126.117</td>\n",
              "      <td>100</td>\n",
              "      <td>86</td>\n",
              "      <td>TRUE</td>\n",
              "      <td>2021-03-03 16:12:44</td>\n",
              "      <td>R_293Mhj9hYj8MI5V</td>\n",
              "      <td>Chen</td>\n",
              "      <td>Zhe</td>\n",
              "      <td>Zhe.Chen@nyumc.org</td>\n",
              "      <td>0</td>\n",
              "      <td>40.74279785</td>\n",
              "      <td>-73.97119904</td>\n",
              "      <td>email</td>\n",
              "      <td>EN</td>\n",
              "      <td>Male</td>\n",
              "      <td>Asian</td>\n",
              "      <td>No</td>\n",
              "      <td>44</td>\n",
              "      <td>Other</td>\n",
              "      <td>No</td>\n",
              "      <td>No</td>\n",
              "      <td>0</td>\n",
              "      <td>0</td>\n",
              "      <td>No</td>\n",
              "      <td>0</td>\n",
              "      <td>0</td>\n",
              "      <td>About the same</td>\n",
              "      <td>No, but I would like to try</td>\n",
              "      <td>0</td>\n",
              "      <td>0</td>\n",
              "      <td>No</td>\n",
              "      <td>Chrome</td>\n",
              "      <td>80.0.3987.87</td>\n",
              "      <td>Macintosh</td>\n",
              "      <td>2560x1440</td>\n",
              "      <td>4.127</td>\n",
              "      <td>40.687</td>\n",
              "      <td>44.049</td>\n",
              "      <td>6</td>\n",
              "      <td>0</td>\n",
              "      <td>5743</td>\n",
              "    </tr>\n",
              "    <tr>\n",
              "      <th>6</th>\n",
              "      <td>2021-03-03 16:49:34</td>\n",
              "      <td>2021-03-03 16:51:04</td>\n",
              "      <td>IP Address</td>\n",
              "      <td>74.105.255.69</td>\n",
              "      <td>100</td>\n",
              "      <td>90</td>\n",
              "      <td>TRUE</td>\n",
              "      <td>2021-03-03 16:51:05</td>\n",
              "      <td>R_1hW0HVkJLYy9HnD</td>\n",
              "      <td>Cascio</td>\n",
              "      <td>Denise</td>\n",
              "      <td>Denise.Cascio@nyumc.org</td>\n",
              "      <td>0</td>\n",
              "      <td>40.99819946</td>\n",
              "      <td>-74.16619873</td>\n",
              "      <td>email</td>\n",
              "      <td>EN</td>\n",
              "      <td>Female</td>\n",
              "      <td>White</td>\n",
              "      <td>No</td>\n",
              "      <td>44</td>\n",
              "      <td>Other</td>\n",
              "      <td>No</td>\n",
              "      <td>Yes</td>\n",
              "      <td>0</td>\n",
              "      <td>2</td>\n",
              "      <td>No</td>\n",
              "      <td>0</td>\n",
              "      <td>0</td>\n",
              "      <td>About the same</td>\n",
              "      <td>No, I would defiantly not want to try</td>\n",
              "      <td>0</td>\n",
              "      <td>0</td>\n",
              "      <td>No</td>\n",
              "      <td>Safari iPhone</td>\n",
              "      <td>14.0.3</td>\n",
              "      <td>iPhone</td>\n",
              "      <td>414x896</td>\n",
              "      <td>4.906</td>\n",
              "      <td>50.918</td>\n",
              "      <td>52.748</td>\n",
              "      <td>16</td>\n",
              "      <td>0</td>\n",
              "      <td>426</td>\n",
              "    </tr>\n",
              "    <tr>\n",
              "      <th>7</th>\n",
              "      <td>2021-03-03 19:14:25</td>\n",
              "      <td>2021-03-03 19:17:40</td>\n",
              "      <td>IP Address</td>\n",
              "      <td>216.165.126.103</td>\n",
              "      <td>100</td>\n",
              "      <td>194</td>\n",
              "      <td>TRUE</td>\n",
              "      <td>2021-03-03 19:17:40</td>\n",
              "      <td>R_1I60oBU9NGzwke5</td>\n",
              "      <td>Bizekis</td>\n",
              "      <td>Costas</td>\n",
              "      <td>Costas.Bizekis@nyulangone.org</td>\n",
              "      <td>0</td>\n",
              "      <td>40.74279785</td>\n",
              "      <td>-73.97119904</td>\n",
              "      <td>email</td>\n",
              "      <td>EN</td>\n",
              "      <td>Male</td>\n",
              "      <td>Decline to Identify</td>\n",
              "      <td>Decline to Identify</td>\n",
              "      <td>50</td>\n",
              "      <td>Physician</td>\n",
              "      <td>No</td>\n",
              "      <td>Yes</td>\n",
              "      <td>0</td>\n",
              "      <td>4</td>\n",
              "      <td>Yes</td>\n",
              "      <td>2</td>\n",
              "      <td>1</td>\n",
              "      <td>Somewhat more</td>\n",
              "      <td>No, but I would like to try</td>\n",
              "      <td>0</td>\n",
              "      <td>0</td>\n",
              "      <td>Yes</td>\n",
              "      <td>Chrome</td>\n",
              "      <td>88.0.4324.190</td>\n",
              "      <td>Windows NT 10.0</td>\n",
              "      <td>1920x1080</td>\n",
              "      <td>3.101</td>\n",
              "      <td>81.452</td>\n",
              "      <td>86.923</td>\n",
              "      <td>17</td>\n",
              "      <td>0</td>\n",
              "      <td>3961</td>\n",
              "    </tr>\n",
              "  </tbody>\n",
              "</table>\n",
              "</div>"
            ],
            "text/plain": [
              "0            StartDate              EndDate  ... refID  rand\n",
              "3  2021-03-03 14:30:57  2021-03-03 14:32:09  ...     0  4956\n",
              "4  2021-03-03 14:55:37  2021-03-03 14:57:08  ...     0  4180\n",
              "5  2021-03-03 16:11:17  2021-03-03 16:12:44  ...     0  5743\n",
              "6  2021-03-03 16:49:34  2021-03-03 16:51:04  ...     0   426\n",
              "7  2021-03-03 19:14:25  2021-03-03 19:17:40  ...     0  3961\n",
              "\n",
              "[5 rows x 44 columns]"
            ]
          },
          "metadata": {
            "tags": []
          },
          "execution_count": 88
        }
      ]
    },
    {
      "cell_type": "markdown",
      "metadata": {
        "id": "OG2rX6tiJ6oq"
      },
      "source": [
        "# Stats and regressions libs"
      ]
    },
    {
      "cell_type": "code",
      "metadata": {
        "id": "3vcPTRQQJ_Ii",
        "colab": {
          "base_uri": "https://localhost:8080/",
          "height": 1000
        },
        "outputId": "6b1a7f69-6cd3-4a1f-f4ee-d108266cc8df"
      },
      "source": [
        "import scipy.stats as stats\r\n",
        "import matplotlib.pyplot as plt\r\n",
        "\r\n",
        "'''\r\n",
        "df.Q9 = df.Q9.replace(r'> 45', 46, regex=True)\r\n",
        "print(df.Q9)\r\n",
        "'''\r\n",
        "\r\n",
        "plt.scatter(df.Q8, df.Q9)\r\n",
        "plt.title('Telehealth weekly hours Pre-COVID vs. Post-COVID')\r\n",
        "plt.xlabel('Pre-COVID')\r\n",
        "plt.ylabel('Post-COVID')\r\n",
        "plt.show()\r\n",
        "\r\n",
        "print(df.Q8)\r\n",
        "print(df.Q9)\r\n"
      ],
      "execution_count": null,
      "outputs": [
        {
          "output_type": "display_data",
          "data": {
            "image/png": "[encoded data removed]",
            "text/plain": [
              "<Figure size 432x288 with 1 Axes>"
            ]
          },
          "metadata": {
            "tags": [],
            "needs_background": "light"
          }
        },
        {
          "output_type": "stream",
          "text": [
            "3      1\n",
            "4      0\n",
            "5       \n",
            "6      0\n",
            "7      0\n",
            "8      1\n",
            "9      0\n",
            "10     0\n",
            "11     0\n",
            "12     0\n",
            "13      \n",
            "14     0\n",
            "15     0\n",
            "16     0\n",
            "17     0\n",
            "18      \n",
            "19     0\n",
            "20     0\n",
            "21     0\n",
            "22     0\n",
            "23    10\n",
            "24     0\n",
            "25      \n",
            "26      \n",
            "27     0\n",
            "28    10\n",
            "29     1\n",
            "30     0\n",
            "31      \n",
            "32     0\n",
            "33     0\n",
            "34    15\n",
            "35     0\n",
            "36    12\n",
            "Name: Q8, dtype: object\n",
            "3       25\n",
            "4       20\n",
            "5         \n",
            "6        2\n",
            "7        4\n",
            "8       15\n",
            "9        2\n",
            "10       2\n",
            "11      18\n",
            "12      15\n",
            "13        \n",
            "14       2\n",
            "15       5\n",
            "16       1\n",
            "17       1\n",
            "18        \n",
            "19       1\n",
            "20       8\n",
            "21       3\n",
            "22       3\n",
            "23      35\n",
            "24       0\n",
            "25        \n",
            "26        \n",
            "27       3\n",
            "28    > 45\n",
            "29       3\n",
            "30       1\n",
            "31        \n",
            "32       2\n",
            "33       5\n",
            "34      15\n",
            "35       1\n",
            "36      12\n",
            "Name: Q9, dtype: object\n"
          ],
          "name": "stdout"
        }
      ]
    },
    {
      "cell_type": "markdown",
      "metadata": {
        "id": "ktKokE2d85eq"
      },
      "source": [
        "# 1. Background and Motivation"
      ]
    },
    {
      "cell_type": "markdown",
      "metadata": {
        "id": "RoAkYY-oZNYJ"
      },
      "source": [
        "In the wake of the covid 19 pandemic [a lot of people] lost thier healthcare because this is america. \r\n",
        "\r\n",
        "often a critical resource for the un insured and underinsured are volunteer or free clinics, but because of covid it hard to do that stuff in person.\r\n",
        "\r\n",
        "at the same time during covid, telehealth seems to heave really taken off as a way to provide care. it seems like inteerms of volunteercare, where the need is greater than ever, telehealth adoption is at the lowerst.\r\n",
        "\r\n",
        "this could be because free clinics arnt great with adapting to the tech, or becasue doctors arnt, or because they just dont have telehealth volunteering oprotunities,\r\n",
        "\r\n",
        "so we made this survey to find out. "
      ]
    },
    {
      "cell_type": "markdown",
      "metadata": {
        "id": "_4GS_yGX8-n-"
      },
      "source": [
        "# 2. Methodology\r\n",
        "\r\n",
        "\r\n"
      ]
    },
    {
      "cell_type": "markdown",
      "metadata": {
        "id": "Cne7FQlIAL2u"
      },
      "source": [
        "include link to survey here : https://nyu.qualtrics.com/jfe/form/SV_1XG93kLodn2ByNT"
      ]
    },
    {
      "cell_type": "markdown",
      "metadata": {
        "id": "Qw8RKamw9A6-"
      },
      "source": [
        "# 3. Summary of Findings"
      ]
    },
    {
      "cell_type": "markdown",
      "metadata": {
        "id": "zPkSQy4u-AtM"
      },
      "source": [
        "# 4. Disscusion of Findings"
      ]
    },
    {
      "cell_type": "markdown",
      "metadata": {
        "id": "Xry9UuCC_gf2"
      },
      "source": [
        "## 4. a. Descriptive Analysis"
      ]
    },
    {
      "cell_type": "markdown",
      "metadata": {
        "id": "nBoa_f2G4DoK"
      },
      "source": [
        "summary stats andeverything here"
      ]
    },
    {
      "cell_type": "markdown",
      "metadata": {
        "id": "5oHda9X-_r29"
      },
      "source": [
        "## 4. b. Statistical Analysis"
      ]
    },
    {
      "cell_type": "markdown",
      "metadata": {
        "id": "dgkehnzE-F9m"
      },
      "source": [
        "stats and regression here "
      ]
    },
    {
      "cell_type": "markdown",
      "metadata": {
        "id": "ListrKe1-ThE"
      },
      "source": [
        "# 5. Limitations (of Survey & Data )"
      ]
    },
    {
      "cell_type": "markdown",
      "metadata": {
        "id": "Ey-U17aU_-AI"
      },
      "source": [
        "# 6. Conclusions & Further Research"
      ]
    },
    {
      "cell_type": "markdown",
      "metadata": {
        "id": "4pR81WkhADYk"
      },
      "source": [
        "# A. Apendix"
      ]
    }
  ]
}