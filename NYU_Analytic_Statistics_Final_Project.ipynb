{
  "nbformat": 4,
  "nbformat_minor": 0,
  "metadata": {
    "colab": {
      "name": "NYU Analytic Statistics Final Project",
      "provenance": [],
      "authorship_tag": "ABX9TyPcx7kxKlVMeGtCe4r7tUrt",
      "include_colab_link": true
    },
    "kernelspec": {
      "name": "python3",
      "display_name": "Python 3"
    }
  },
  "cells": [
    {
      "cell_type": "markdown",
      "metadata": {
        "id": "view-in-github",
        "colab_type": "text"
      },
      "source": [
        "<a href=\"https://colab.research.google.com/github/sbm367/nyuparse/blob/master/NYU_Analytic_Statistics_Final_Project.ipynb\" target=\"_parent\"><img src=\"https://colab.research.google.com/assets/colab-badge.svg\" alt=\"Open In Colab\"/></a>"
      ]
    },
    {
      "cell_type": "markdown",
      "metadata": {
        "id": "WtexGTXUYH0R"
      },
      "source": [
        "New Stuff"
      ]
    },
    {
      "cell_type": "code",
      "metadata": {
        "id": "HkmXcMqUYLQ_",
        "colab": {
          "base_uri": "https://localhost:8080/",
          "height": 507
        },
        "outputId": "b6e11c4d-e764-46d0-8b67-482907dd3f43"
      },
      "source": [
        "# import libs\r\n",
        "import numpy as np\r\n",
        "import pandas as pd\r\n",
        "\r\n",
        "# Get the data\r\n",
        "github_url = 'https://raw.githubusercontent.com/sbm367/nyuparse/master/Final%20Survey%20Data%2C%20Cleaned%2C%20Anonymize.csv'\r\n",
        "df = pd.read_csv(github_url)\r\n",
        "\r\n",
        "df.head(3)\r\n",
        "\r\n"
      ],
      "execution_count": 25,
      "outputs": [
        {
          "output_type": "execute_result",
          "data": {
            "text/html": [
              "<div>\n",
              "<style scoped>\n",
              "    .dataframe tbody tr th:only-of-type {\n",
              "        vertical-align: middle;\n",
              "    }\n",
              "\n",
              "    .dataframe tbody tr th {\n",
              "        vertical-align: top;\n",
              "    }\n",
              "\n",
              "    .dataframe thead th {\n",
              "        text-align: right;\n",
              "    }\n",
              "</style>\n",
              "<table border=\"1\" class=\"dataframe\">\n",
              "  <thead>\n",
              "    <tr style=\"text-align: right;\">\n",
              "      <th></th>\n",
              "      <th>Start Date</th>\n",
              "      <th>End Date</th>\n",
              "      <th>Q1 - How do you self identify with regards to Gender?</th>\n",
              "      <th>Q2 - How do you self identify with regards to Race?</th>\n",
              "      <th>Q3 - I identify as Hispanic or Latinx</th>\n",
              "      <th>Q4 - What is your age?</th>\n",
              "      <th>Q5 - What category of healthcare provider are you?</th>\n",
              "      <th>Q6 - Are you currently a student?</th>\n",
              "      <th>Q7 - Have you ever provided medical services over Telehealth?</th>\n",
              "      <th>Q8 - On average, in the 6 months before COVID-19, how many hours a week did you provide services over Telehealth?</th>\n",
              "      <th>Q9 - On average since COVID-19, how many hours a week do you provide services over Telehealth?</th>\n",
              "      <th>Q10 - Have you ever done volunteer medical or free clinic work?</th>\n",
              "      <th>Q11 - On average, in the 6 months before COVID-19, how many hours a week did you volunteer?</th>\n",
              "      <th>Q12 - On average since COVID-19, how many hours a week have you volunteered?</th>\n",
              "      <th>Q13 - Would you like to do more, less or the same amount of volunteer medical work?</th>\n",
              "      <th>Q14 - Have you ever done volunteer medical or free clinic work via Telehealth?</th>\n",
              "      <th>Q15 - On average, in the 6 months before COVID-19, how many hours of your volunteer medical work per week was via Telehealth?</th>\n",
              "      <th>Q16 - On average, since COVID-19, how many hours of your volunteer medical work per week is currently via Telehealth?</th>\n",
              "      <th>Q17 - Would you be interested in participating in a future pilot of a Health Volunteering platform through NYU?</th>\n",
              "    </tr>\n",
              "  </thead>\n",
              "  <tbody>\n",
              "    <tr>\n",
              "      <th>0</th>\n",
              "      <td>3/3/2021</td>\n",
              "      <td>3/3/2021</td>\n",
              "      <td>Female</td>\n",
              "      <td>White</td>\n",
              "      <td>Yes</td>\n",
              "      <td>56.0</td>\n",
              "      <td>NaN</td>\n",
              "      <td>No</td>\n",
              "      <td>Yes</td>\n",
              "      <td>1.0</td>\n",
              "      <td>25.0</td>\n",
              "      <td>Yes</td>\n",
              "      <td>2.0</td>\n",
              "      <td>2.0</td>\n",
              "      <td>Somewhat more</td>\n",
              "      <td>No, but I would like to try</td>\n",
              "      <td>0.0</td>\n",
              "      <td>0.0</td>\n",
              "      <td>Yes</td>\n",
              "    </tr>\n",
              "    <tr>\n",
              "      <th>1</th>\n",
              "      <td>3/3/2021</td>\n",
              "      <td>3/3/2021</td>\n",
              "      <td>Female</td>\n",
              "      <td>Asian</td>\n",
              "      <td>No</td>\n",
              "      <td>34.0</td>\n",
              "      <td>Other</td>\n",
              "      <td>No</td>\n",
              "      <td>Yes</td>\n",
              "      <td>0.0</td>\n",
              "      <td>20.0</td>\n",
              "      <td>No</td>\n",
              "      <td>0.0</td>\n",
              "      <td>0.0</td>\n",
              "      <td>About the same</td>\n",
              "      <td>No, but I would like to try</td>\n",
              "      <td>0.0</td>\n",
              "      <td>0.0</td>\n",
              "      <td>Yes</td>\n",
              "    </tr>\n",
              "    <tr>\n",
              "      <th>2</th>\n",
              "      <td>3/3/2021</td>\n",
              "      <td>3/3/2021</td>\n",
              "      <td>Male</td>\n",
              "      <td>Asian</td>\n",
              "      <td>No</td>\n",
              "      <td>44.0</td>\n",
              "      <td>Other</td>\n",
              "      <td>No</td>\n",
              "      <td>No</td>\n",
              "      <td>0.0</td>\n",
              "      <td>0.0</td>\n",
              "      <td>No</td>\n",
              "      <td>0.0</td>\n",
              "      <td>0.0</td>\n",
              "      <td>About the same</td>\n",
              "      <td>No, but I would like to try</td>\n",
              "      <td>0.0</td>\n",
              "      <td>0.0</td>\n",
              "      <td>No</td>\n",
              "    </tr>\n",
              "  </tbody>\n",
              "</table>\n",
              "</div>"
            ],
            "text/plain": [
              "  Start Date  ... Q17 - Would you be interested in participating in a future pilot of a Health Volunteering platform through NYU?\n",
              "0   3/3/2021  ...                                                Yes                                                             \n",
              "1   3/3/2021  ...                                                Yes                                                             \n",
              "2   3/3/2021  ...                                                 No                                                             \n",
              "\n",
              "[3 rows x 19 columns]"
            ]
          },
          "metadata": {
            "tags": []
          },
          "execution_count": 25
        }
      ]
    },
    {
      "cell_type": "code",
      "metadata": {
        "colab": {
          "base_uri": "https://localhost:8080/",
          "height": 381
        },
        "id": "skH5BAktjPlG",
        "outputId": "6c25d853-f373-4d25-a5a1-4fe3eff3ee05"
      },
      "source": [
        "df.describe()"
      ],
      "execution_count": 26,
      "outputs": [
        {
          "output_type": "execute_result",
          "data": {
            "text/html": [
              "<div>\n",
              "<style scoped>\n",
              "    .dataframe tbody tr th:only-of-type {\n",
              "        vertical-align: middle;\n",
              "    }\n",
              "\n",
              "    .dataframe tbody tr th {\n",
              "        vertical-align: top;\n",
              "    }\n",
              "\n",
              "    .dataframe thead th {\n",
              "        text-align: right;\n",
              "    }\n",
              "</style>\n",
              "<table border=\"1\" class=\"dataframe\">\n",
              "  <thead>\n",
              "    <tr style=\"text-align: right;\">\n",
              "      <th></th>\n",
              "      <th>Q4 - What is your age?</th>\n",
              "      <th>Q8 - On average, in the 6 months before COVID-19, how many hours a week did you provide services over Telehealth?</th>\n",
              "      <th>Q9 - On average since COVID-19, how many hours a week do you provide services over Telehealth?</th>\n",
              "      <th>Q11 - On average, in the 6 months before COVID-19, how many hours a week did you volunteer?</th>\n",
              "      <th>Q12 - On average since COVID-19, how many hours a week have you volunteered?</th>\n",
              "      <th>Q15 - On average, in the 6 months before COVID-19, how many hours of your volunteer medical work per week was via Telehealth?</th>\n",
              "      <th>Q16 - On average, since COVID-19, how many hours of your volunteer medical work per week is currently via Telehealth?</th>\n",
              "    </tr>\n",
              "  </thead>\n",
              "  <tbody>\n",
              "    <tr>\n",
              "      <th>count</th>\n",
              "      <td>88.000000</td>\n",
              "      <td>89.000000</td>\n",
              "      <td>89.000000</td>\n",
              "      <td>89.000000</td>\n",
              "      <td>89.000000</td>\n",
              "      <td>89.000000</td>\n",
              "      <td>89.000000</td>\n",
              "    </tr>\n",
              "    <tr>\n",
              "      <th>mean</th>\n",
              "      <td>44.954545</td>\n",
              "      <td>0.865169</td>\n",
              "      <td>6.786517</td>\n",
              "      <td>0.561798</td>\n",
              "      <td>1.044944</td>\n",
              "      <td>0.078652</td>\n",
              "      <td>0.168539</td>\n",
              "    </tr>\n",
              "    <tr>\n",
              "      <th>std</th>\n",
              "      <td>12.923212</td>\n",
              "      <td>2.751822</td>\n",
              "      <td>10.100036</td>\n",
              "      <td>1.559101</td>\n",
              "      <td>4.977016</td>\n",
              "      <td>0.568585</td>\n",
              "      <td>1.002678</td>\n",
              "    </tr>\n",
              "    <tr>\n",
              "      <th>min</th>\n",
              "      <td>22.000000</td>\n",
              "      <td>0.000000</td>\n",
              "      <td>0.000000</td>\n",
              "      <td>0.000000</td>\n",
              "      <td>0.000000</td>\n",
              "      <td>0.000000</td>\n",
              "      <td>0.000000</td>\n",
              "    </tr>\n",
              "    <tr>\n",
              "      <th>25%</th>\n",
              "      <td>35.000000</td>\n",
              "      <td>0.000000</td>\n",
              "      <td>0.000000</td>\n",
              "      <td>0.000000</td>\n",
              "      <td>0.000000</td>\n",
              "      <td>0.000000</td>\n",
              "      <td>0.000000</td>\n",
              "    </tr>\n",
              "    <tr>\n",
              "      <th>50%</th>\n",
              "      <td>41.500000</td>\n",
              "      <td>0.000000</td>\n",
              "      <td>2.000000</td>\n",
              "      <td>0.000000</td>\n",
              "      <td>0.000000</td>\n",
              "      <td>0.000000</td>\n",
              "      <td>0.000000</td>\n",
              "    </tr>\n",
              "    <tr>\n",
              "      <th>75%</th>\n",
              "      <td>54.250000</td>\n",
              "      <td>0.000000</td>\n",
              "      <td>10.000000</td>\n",
              "      <td>0.000000</td>\n",
              "      <td>0.000000</td>\n",
              "      <td>0.000000</td>\n",
              "      <td>0.000000</td>\n",
              "    </tr>\n",
              "    <tr>\n",
              "      <th>max</th>\n",
              "      <td>75.000000</td>\n",
              "      <td>15.000000</td>\n",
              "      <td>45.000000</td>\n",
              "      <td>10.000000</td>\n",
              "      <td>45.000000</td>\n",
              "      <td>5.000000</td>\n",
              "      <td>8.000000</td>\n",
              "    </tr>\n",
              "  </tbody>\n",
              "</table>\n",
              "</div>"
            ],
            "text/plain": [
              "       Q4 - What is your age?  ...  Q16 - On average, since COVID-19, how many hours of your volunteer medical work per week is currently via Telehealth?\n",
              "count               88.000000  ...                                          89.000000                                                                    \n",
              "mean                44.954545  ...                                           0.168539                                                                    \n",
              "std                 12.923212  ...                                           1.002678                                                                    \n",
              "min                 22.000000  ...                                           0.000000                                                                    \n",
              "25%                 35.000000  ...                                           0.000000                                                                    \n",
              "50%                 41.500000  ...                                           0.000000                                                                    \n",
              "75%                 54.250000  ...                                           0.000000                                                                    \n",
              "max                 75.000000  ...                                           8.000000                                                                    \n",
              "\n",
              "[8 rows x 7 columns]"
            ]
          },
          "metadata": {
            "tags": []
          },
          "execution_count": 26
        }
      ]
    },
    {
      "cell_type": "code",
      "metadata": {
        "colab": {
          "base_uri": "https://localhost:8080/"
        },
        "id": "0xBwwXXwjlRj",
        "outputId": "3bf9b238-4381-4a96-85d4-99cac18587ba"
      },
      "source": [
        "df['Q4 - What is your age?'].describe()"
      ],
      "execution_count": 27,
      "outputs": [
        {
          "output_type": "execute_result",
          "data": {
            "text/plain": [
              "count    88.000000\n",
              "mean     44.954545\n",
              "std      12.923212\n",
              "min      22.000000\n",
              "25%      35.000000\n",
              "50%      41.500000\n",
              "75%      54.250000\n",
              "max      75.000000\n",
              "Name: Q4 - What is your age?, dtype: float64"
            ]
          },
          "metadata": {
            "tags": []
          },
          "execution_count": 27
        }
      ]
    },
    {
      "cell_type": "markdown",
      "metadata": {
        "id": "EG3J1p4gYBu6"
      },
      "source": [
        "---------------------------------------------------------------------------"
      ]
    },
    {
      "cell_type": "markdown",
      "metadata": {
        "id": "nDwSOkSuI5Hg"
      },
      "source": [
        "NYU Analytic Statistics Final Project Part 2"
      ]
    },
    {
      "cell_type": "code",
      "metadata": {
        "colab": {
          "base_uri": "https://localhost:8080/"
        },
        "id": "r44cGSEC9urs",
        "outputId": "071e1a18-13ba-498f-d558-d920dcd8e55d"
      },
      "source": [
        "df['Q12'].describe()"
      ],
      "execution_count": null,
      "outputs": [
        {
          "output_type": "execute_result",
          "data": {
            "text/plain": [
              "count     34\n",
              "unique     5\n",
              "top         \n",
              "freq      17\n",
              "Name: Q12, dtype: object"
            ]
          },
          "metadata": {
            "tags": []
          },
          "execution_count": 45
        }
      ]
    },
    {
      "cell_type": "code",
      "metadata": {
        "colab": {
          "base_uri": "https://localhost:8080/"
        },
        "id": "R-e5yDc4_I8A",
        "outputId": "cc61f9b5-4e64-454f-8605-b9da4e299d82"
      },
      "source": [
        "df[['Q11','Q12']].mean()"
      ],
      "execution_count": null,
      "outputs": [
        {
          "output_type": "execute_result",
          "data": {
            "text/plain": [
              "0\n",
              "Q11    6.479412e+15\n",
              "Q12    6.176471e+14\n",
              "dtype: float64"
            ]
          },
          "metadata": {
            "tags": []
          },
          "execution_count": 46
        }
      ]
    },
    {
      "cell_type": "markdown",
      "metadata": {
        "id": "OG2rX6tiJ6oq"
      },
      "source": [
        "# Stats and regressions libs"
      ]
    },
    {
      "cell_type": "code",
      "metadata": {
        "id": "3vcPTRQQJ_Ii",
        "colab": {
          "base_uri": "https://localhost:8080/",
          "height": 1000
        },
        "outputId": "6b1a7f69-6cd3-4a1f-f4ee-d108266cc8df"
      },
      "source": [
        "import scipy.stats as stats\r\n",
        "import matplotlib.pyplot as plt\r\n",
        "\r\n",
        "'''\r\n",
        "df.Q9 = df.Q9.replace(r'> 45', 46, regex=True)\r\n",
        "print(df.Q9)\r\n",
        "'''\r\n",
        "\r\n",
        "plt.scatter(df.Q8, df.Q9)\r\n",
        "plt.title('Telehealth weekly hours Pre-COVID vs. Post-COVID')\r\n",
        "plt.xlabel('Pre-COVID')\r\n",
        "plt.ylabel('Post-COVID')\r\n",
        "plt.show()\r\n",
        "\r\n",
        "print(df.Q8)\r\n",
        "print(df.Q9)\r\n"
      ],
      "execution_count": null,
      "outputs": [
        {
          "output_type": "display_data",
          "data": {
            "image/png": "[encoded data removed]",
            "text/plain": [
              "<Figure size 432x288 with 1 Axes>"
            ]
          },
          "metadata": {
            "tags": [],
            "needs_background": "light"
          }
        },
        {
          "output_type": "stream",
          "text": [
            "3      1\n",
            "4      0\n",
            "5       \n",
            "6      0\n",
            "7      0\n",
            "8      1\n",
            "9      0\n",
            "10     0\n",
            "11     0\n",
            "12     0\n",
            "13      \n",
            "14     0\n",
            "15     0\n",
            "16     0\n",
            "17     0\n",
            "18      \n",
            "19     0\n",
            "20     0\n",
            "21     0\n",
            "22     0\n",
            "23    10\n",
            "24     0\n",
            "25      \n",
            "26      \n",
            "27     0\n",
            "28    10\n",
            "29     1\n",
            "30     0\n",
            "31      \n",
            "32     0\n",
            "33     0\n",
            "34    15\n",
            "35     0\n",
            "36    12\n",
            "Name: Q8, dtype: object\n",
            "3       25\n",
            "4       20\n",
            "5         \n",
            "6        2\n",
            "7        4\n",
            "8       15\n",
            "9        2\n",
            "10       2\n",
            "11      18\n",
            "12      15\n",
            "13        \n",
            "14       2\n",
            "15       5\n",
            "16       1\n",
            "17       1\n",
            "18        \n",
            "19       1\n",
            "20       8\n",
            "21       3\n",
            "22       3\n",
            "23      35\n",
            "24       0\n",
            "25        \n",
            "26        \n",
            "27       3\n",
            "28    > 45\n",
            "29       3\n",
            "30       1\n",
            "31        \n",
            "32       2\n",
            "33       5\n",
            "34      15\n",
            "35       1\n",
            "36      12\n",
            "Name: Q9, dtype: object\n"
          ],
          "name": "stdout"
        }
      ]
    },
    {
      "cell_type": "markdown",
      "metadata": {
        "id": "ktKokE2d85eq"
      },
      "source": [
        "# 1. Background and Motivation"
      ]
    },
    {
      "cell_type": "markdown",
      "metadata": {
        "id": "RoAkYY-oZNYJ"
      },
      "source": [
        "In the wake of the covid 19 pandemic [a lot of people] lost thier healthcare because this is america. \r\n",
        "\r\n",
        "often a critical resource for the un insured and underinsured are volunteer or free clinics, but because of covid it hard to do that stuff in person.\r\n",
        "\r\n",
        "at the same time during covid, telehealth seems to heave really taken off as a way to provide care. it seems like inteerms of volunteercare, where the need is greater than ever, telehealth adoption is at the lowerst.\r\n",
        "\r\n",
        "this could be because free clinics arnt great with adapting to the tech, or becasue doctors arnt, or because they just dont have telehealth volunteering oprotunities,\r\n",
        "\r\n",
        "so we made this survey to find out. "
      ]
    },
    {
      "cell_type": "markdown",
      "metadata": {
        "id": "_4GS_yGX8-n-"
      },
      "source": [
        "# 2. Methodology\r\n",
        "\r\n",
        "\r\n"
      ]
    },
    {
      "cell_type": "markdown",
      "metadata": {
        "id": "Cne7FQlIAL2u"
      },
      "source": [
        "include link to survey here : https://nyu.qualtrics.com/jfe/form/SV_1XG93kLodn2ByNT"
      ]
    },
    {
      "cell_type": "markdown",
      "metadata": {
        "id": "Qw8RKamw9A6-"
      },
      "source": [
        "# 3. Summary of Findings"
      ]
    },
    {
      "cell_type": "markdown",
      "metadata": {
        "id": "zPkSQy4u-AtM"
      },
      "source": [
        "# 4. Disscusion of Findings"
      ]
    },
    {
      "cell_type": "markdown",
      "metadata": {
        "id": "Xry9UuCC_gf2"
      },
      "source": [
        "## 4. a. Descriptive Analysis"
      ]
    },
    {
      "cell_type": "markdown",
      "metadata": {
        "id": "nBoa_f2G4DoK"
      },
      "source": [
        "summary stats andeverything here"
      ]
    },
    {
      "cell_type": "markdown",
      "metadata": {
        "id": "5oHda9X-_r29"
      },
      "source": [
        "## 4. b. Statistical Analysis"
      ]
    },
    {
      "cell_type": "markdown",
      "metadata": {
        "id": "dgkehnzE-F9m"
      },
      "source": [
        "stats and regression here "
      ]
    },
    {
      "cell_type": "markdown",
      "metadata": {
        "id": "ListrKe1-ThE"
      },
      "source": [
        "# 5. Limitations (of Survey & Data )"
      ]
    },
    {
      "cell_type": "markdown",
      "metadata": {
        "id": "Ey-U17aU_-AI"
      },
      "source": [
        "# 6. Conclusions & Further Research"
      ]
    },
    {
      "cell_type": "markdown",
      "metadata": {
        "id": "4pR81WkhADYk"
      },
      "source": [
        "# A. Apendix"
      ]
    }
  ]
}